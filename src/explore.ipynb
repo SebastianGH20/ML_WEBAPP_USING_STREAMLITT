{
    "cells": [
        {
            "cell_type": "markdown",
            "metadata": {},
            "source": [
                "# Explore here"
            ]
        },
        {
            "cell_type": "code",
            "execution_count": 1,
            "metadata": {},
            "outputs": [],
            "source": [
                "import pandas as pd\n",
                "from sklearn.model_selection import train_test_split\n",
                "from sklearn.preprocessing import LabelEncoder\n",
                "from sklearn.tree import DecisionTreeClassifier\n",
                "from joblib import dump\n",
                "import numpy as np\n",
                "import gzip\n",
                "import shutil\n",
                "\n",
                "# Cargar los datos\n",
                "data = pd.read_csv('anime.csv')\n",
                "\n",
                "# Manejo de valores faltantes y no numéricos\n",
                "data = data.dropna(subset=['rating'])  # Eliminar filas con valores nulos en 'rating'\n",
                "data = data.reset_index(drop=True)\n",
                "\n",
                "# Reemplazar 'Unknown' con NaN y eliminar esas filas\n",
                "data.replace('Unknown', np.nan, inplace=True)\n",
                "data.dropna(inplace=True)\n",
                "\n",
                "# Codificación de las características categóricas\n",
                "label_encoder = LabelEncoder()\n",
                "data['type'] = label_encoder.fit_transform(data['type'])\n",
                "\n",
                "# One-hot encoding para la columna 'genre'\n",
                "genre_dummies = data['genre'].str.get_dummies(sep=', ')\n",
                "data = pd.concat([data, genre_dummies], axis=1)\n",
                "\n",
                "# Selección de las características y la variable objetivo\n",
                "X = data.drop(columns=['name', 'genre'])\n",
                "y = data['name']\n",
                "\n",
                "# División en conjuntos de entrenamiento y prueba\n",
                "X_train, X_test, y_train, y_test = train_test_split(X, y, test_size=0.2, random_state=42)\n",
                "\n",
                "# Entrenar el modelo de clasificación\n",
                "model = DecisionTreeClassifier(random_state=42)\n",
                "model.fit(X_train, y_train)\n",
                "\n",
                "# Guardar el modelo y las características de entrenamiento\n",
                "model_filename = \"decision_tree_classifier_anime.joblib\"\n",
                "dump(model, model_filename)\n",
                "\n",
                "# Comprimir el archivo guardado\n",
                "with open(model_filename, 'rb') as f_in:\n",
                "    with gzip.open(model_filename + '.gz', 'wb') as f_out:\n",
                "        shutil.copyfileobj(f_in, f_out)\n",
                "\n",
                "# Opcional: guardar las características de entrenamiento en un CSV\n",
                "X_train.columns.to_series().to_csv('train_features.csv', index=False)\n",
                "\n",
                "# Eliminar el archivo original para ahorrar espacio (opcional)\n",
                "import os\n",
                "os.remove(model_filename)\n"
            ]
        }
    ],
    "metadata": {
        "kernelspec": {
            "display_name": "Python 3.8.13 64-bit ('3.8.13')",
            "language": "python",
            "name": "python3"
        },
        "language_info": {
            "codemirror_mode": {
                "name": "ipython",
                "version": 3
            },
            "file_extension": ".py",
            "mimetype": "text/x-python",
            "name": "python",
            "nbconvert_exporter": "python",
            "pygments_lexer": "ipython3",
            "version": "3.12.0"
        },
        "orig_nbformat": 4,
        "vscode": {
            "interpreter": {
                "hash": "110cc1dee26208153f2972f08a2ad52b6a56238dc66d48e87fb757ef2996db56"
            }
        }
    },
    "nbformat": 4,
    "nbformat_minor": 2
}
